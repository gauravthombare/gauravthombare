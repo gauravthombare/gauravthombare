{
  "nbformat": 4,
  "nbformat_minor": 0,
  "metadata": {
    "colab": {
      "provenance": [],
      "authorship_tag": "ABX9TyOGsprhPQO+QqPoAfYCdf/P",
      "include_colab_link": true
    },
    "kernelspec": {
      "name": "python3",
      "display_name": "Python 3"
    },
    "language_info": {
      "name": "python"
    }
  },
  "cells": [
    {
      "cell_type": "markdown",
      "metadata": {
        "id": "view-in-github",
        "colab_type": "text"
      },
      "source": [
        "<a href=\"https://colab.research.google.com/github/gauravthombare/gauravthombare/blob/main/OOPS_day1.ipynb\" target=\"_parent\"><img src=\"https://colab.research.google.com/assets/colab-badge.svg\" alt=\"Open In Colab\"/></a>"
      ]
    },
    {
      "cell_type": "code",
      "execution_count": 21,
      "metadata": {
        "id": "dJVW4amJIIys"
      },
      "outputs": [],
      "source": [
        "class employee:\n",
        "  def __init__(self, first, last, pay):\n",
        "    self.first = first\n",
        "    self.last = last\n",
        "    self.pay = pay\n",
        "    self.email = last+first+'@gmail.com'\n",
        "  \n",
        "\n",
        "  def fullname(self):\n",
        "    self.name2 = 'abc'\n",
        "    return \"{} {}\".format(self.first, self.last)\n",
        "\n",
        "  def fullname2(self):\n",
        "    return '1'\n",
        "\n",
        "  def __add__(self, other):\n",
        "    return self.pay+other.pay\n",
        "    pass\n",
        "\n",
        "emp1 = employee('a', 'b', 100)\n",
        "emp2 = employee('c', 'd', 200)\n"
      ]
    },
    {
      "cell_type": "code",
      "source": [
        "print(emp1.__dict__)\n",
        "print(emp1.fullname())\n",
        "print(emp1.__dict__)"
      ],
      "metadata": {
        "colab": {
          "base_uri": "https://localhost:8080/"
        },
        "id": "8n2GsbUHIhbv",
        "outputId": "35d101f6-3eb7-4c3c-d39c-005e010972c4"
      },
      "execution_count": 22,
      "outputs": [
        {
          "output_type": "stream",
          "name": "stdout",
          "text": [
            "{'first': 'a', 'last': 'b', 'pay': 100, 'email': 'ba@gmail.com'}\n",
            "a b\n",
            "{'first': 'a', 'last': 'b', 'pay': 100, 'email': 'ba@gmail.com', 'name2': 'abc'}\n"
          ]
        }
      ]
    },
    {
      "cell_type": "code",
      "source": [
        "print(int.__add__(4,5))"
      ],
      "metadata": {
        "colab": {
          "base_uri": "https://localhost:8080/"
        },
        "id": "-HfNaMCIJpEB",
        "outputId": "4b696cf1-a4b9-4141-8382-2a624d5f0457"
      },
      "execution_count": 14,
      "outputs": [
        {
          "output_type": "stream",
          "name": "stdout",
          "text": [
            "9\n"
          ]
        }
      ]
    },
    {
      "cell_type": "code",
      "source": [],
      "metadata": {
        "id": "Bh_90s8dK9OD"
      },
      "execution_count": null,
      "outputs": []
    }
  ]
}
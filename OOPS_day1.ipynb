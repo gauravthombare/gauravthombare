{
  "nbformat": 4,
  "nbformat_minor": 0,
  "metadata": {
    "colab": {
      "provenance": [],
      "authorship_tag": "ABX9TyMgmqgoY9OMX9qcAPLimWeS",
      "include_colab_link": true
    },
    "kernelspec": {
      "name": "python3",
      "display_name": "Python 3"
    },
    "language_info": {
      "name": "python"
    }
  },
  "cells": [
    {
      "cell_type": "markdown",
      "metadata": {
        "id": "view-in-github",
        "colab_type": "text"
      },
      "source": [
        "<a href=\"https://colab.research.google.com/github/gauravthombare/gauravthombare/blob/main/OOPS_day1.ipynb\" target=\"_parent\"><img src=\"https://colab.research.google.com/assets/colab-badge.svg\" alt=\"Open In Colab\"/></a>"
      ]
    },
    {
      "cell_type": "code",
      "execution_count": 24,
      "metadata": {
        "id": "dJVW4amJIIys"
      },
      "outputs": [],
      "source": [
        "class employee:\n",
        "  def __init__(self, first, last, pay):\n",
        "    self.first = first\n",
        "    self.last = last\n",
        "    self.pay = pay\n",
        "    self.email = last+first+'@gmail.com'\n",
        "  \n",
        "\n",
        "  def fullname(self):\n",
        "    self.name2 = 'abc'\n",
        "    return \"{} {}\".format(self.first, self.last)\n",
        "\n",
        "  def fullname2(self):\n",
        "    return '1'\n",
        "\n",
        "  def __add__(self, other):\n",
        "    return self.pay+other.pay\n",
        "    pass\n",
        "\n",
        "  def __repr__(self):\n",
        "    return f\"employees ({self.first})\"\n",
        "\n",
        "  def __str__(self):\n",
        "    return  f\"{self.fullname()}\"\n",
        "\n",
        "emp1 = employee('a', 'b', 100)\n",
        "emp2 = employee('c', 'd', 200)\n"
      ]
    },
    {
      "cell_type": "code",
      "source": [
        "print(emp1.__dict__)\n",
        "print(emp1.fullname())\n",
        "print(emp1.__dict__)"
      ],
      "metadata": {
        "colab": {
          "base_uri": "https://localhost:8080/"
        },
        "id": "8n2GsbUHIhbv",
        "outputId": "91179783-df61-4d82-ea97-4bc4b6575e1e"
      },
      "execution_count": 2,
      "outputs": [
        {
          "output_type": "stream",
          "name": "stdout",
          "text": [
            "{'first': 'a', 'last': 'b', 'pay': 100, 'email': 'ba@gmail.com'}\n",
            "a b\n",
            "{'first': 'a', 'last': 'b', 'pay': 100, 'email': 'ba@gmail.com', 'name2': 'abc'}\n"
          ]
        }
      ]
    },
    {
      "cell_type": "code",
      "source": [
        "print(int.__add__(4,5))"
      ],
      "metadata": {
        "colab": {
          "base_uri": "https://localhost:8080/"
        },
        "id": "-HfNaMCIJpEB",
        "outputId": "0e0434e2-909e-4549-b954-5696a2310db4"
      },
      "execution_count": 3,
      "outputs": [
        {
          "output_type": "stream",
          "name": "stdout",
          "text": [
            "9\n"
          ]
        }
      ]
    },
    {
      "cell_type": "markdown",
      "source": [
        "Day 2\n",
        "# Inheritence"
      ],
      "metadata": {
        "id": "h-ssCBokJ1Fo"
      }
    },
    {
      "cell_type": "code",
      "source": [
        "# Normal Class\n",
        "\n",
        "class Developer:\n",
        "  pass"
      ],
      "metadata": {
        "id": "Bh_90s8dK9OD"
      },
      "execution_count": 4,
      "outputs": []
    },
    {
      "cell_type": "code",
      "source": [
        "# inherited class\n",
        "class Developer(employee):\n",
        "  def __init__(self, first, last, pay, Lang):\n",
        "    super().__init__(first, last, pay)\n",
        "    employee.__init__(self, first, last, pay)\n",
        "    self.lang = Lang\n",
        "\n",
        "  def adc(self):\n",
        "    super().fullname()\n",
        "\n",
        "  def fullname(self):\n",
        "    return \"all ok\"\n",
        "\n",
        "class Manager(employee):\n",
        "  def __init__(self, first, last, pay, employees=None):\n",
        "    super().__init__(first, last, pay)\n",
        "    if employees is None:\n",
        "        self.employees = []\n",
        "    else:\n",
        "        self.employees = employees\n",
        "\n",
        "  def add_emp(self, emp):\n",
        "    if emp not in self.employees:\n",
        "      self.employees.append(emp)"
      ],
      "metadata": {
        "id": "6y2IvIrOKCka"
      },
      "execution_count": 10,
      "outputs": []
    },
    {
      "cell_type": "code",
      "source": [
        "dev1 = Developer('ashok', 'gupta', 500, \"'python\")"
      ],
      "metadata": {
        "id": "TvhNgq4qKSUQ"
      },
      "execution_count": 6,
      "outputs": []
    },
    {
      "cell_type": "code",
      "source": [
        "print(dev1.fullname())"
      ],
      "metadata": {
        "colab": {
          "base_uri": "https://localhost:8080/"
        },
        "id": "b1T-aXIvKeuK",
        "outputId": "62b6e691-b5cf-434d-b649-64246b4a77b6"
      },
      "execution_count": 8,
      "outputs": [
        {
          "output_type": "stream",
          "name": "stdout",
          "text": [
            "ashok gupta\n"
          ]
        }
      ]
    },
    {
      "cell_type": "code",
      "source": [
        "mag = Manager(\"Hemant\", \"Modi\", 1000)\n",
        "print(mag.email)"
      ],
      "metadata": {
        "colab": {
          "base_uri": "https://localhost:8080/"
        },
        "id": "yS2uUv5ZKhSk",
        "outputId": "daa47c62-54ca-4fc4-eca7-4ee267cd5b3e"
      },
      "execution_count": 11,
      "outputs": [
        {
          "output_type": "stream",
          "name": "stdout",
          "text": [
            "ModiHemant@gmail.com\n"
          ]
        }
      ]
    },
    {
      "cell_type": "code",
      "source": [
        "mag.add_emp(emp1)\n",
        "mag.add_emp(emp2)\n",
        "mag.add_emp(dev1)"
      ],
      "metadata": {
        "id": "azHPV9M4PjNq"
      },
      "execution_count": 12,
      "outputs": []
    },
    {
      "cell_type": "code",
      "source": [
        "print([i.fullname() for i in mag.employees[:]])"
      ],
      "metadata": {
        "colab": {
          "base_uri": "https://localhost:8080/"
        },
        "id": "wq8wM8sbP4ZI",
        "outputId": "91dd841b-d6fb-4c26-a91a-95630ff5bdc7"
      },
      "execution_count": 18,
      "outputs": [
        {
          "output_type": "stream",
          "name": "stdout",
          "text": [
            "['a b', 'c d', 'ashok gupta']\n"
          ]
        }
      ]
    },
    {
      "cell_type": "markdown",
      "source": [
        "# __reppr__ and __Str__ method"
      ],
      "metadata": {
        "id": "cLtTlwpmTViH"
      }
    },
    {
      "cell_type": "code",
      "source": [
        "print(emp1)"
      ],
      "metadata": {
        "colab": {
          "base_uri": "https://localhost:8080/"
        },
        "id": "skRkLpn1P9Rr",
        "outputId": "72e71752-be0a-437d-914e-57581fee344e"
      },
      "execution_count": 25,
      "outputs": [
        {
          "output_type": "stream",
          "name": "stdout",
          "text": [
            "a b\n"
          ]
        }
      ]
    },
    {
      "cell_type": "code",
      "source": [
        "print(emp1.__repr__())"
      ],
      "metadata": {
        "colab": {
          "base_uri": "https://localhost:8080/"
        },
        "id": "4KYAhz9kTrKG",
        "outputId": "5370667d-352b-413a-f84c-510981af973c"
      },
      "execution_count": 26,
      "outputs": [
        {
          "output_type": "stream",
          "name": "stdout",
          "text": [
            "employees (a)\n"
          ]
        }
      ]
    },
    {
      "cell_type": "code",
      "source": [],
      "metadata": {
        "id": "X0QUw_B0Uzn5"
      },
      "execution_count": null,
      "outputs": []
    }
  ]
}
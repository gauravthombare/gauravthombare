{
  "nbformat": 4,
  "nbformat_minor": 0,
  "metadata": {
    "colab": {
      "provenance": [],
      "authorship_tag": "ABX9TyNtxp4rgBoHX3rhz7N6u7cQ",
      "include_colab_link": true
    },
    "kernelspec": {
      "name": "python3",
      "display_name": "Python 3"
    },
    "language_info": {
      "name": "python"
    }
  },
  "cells": [
    {
      "cell_type": "markdown",
      "metadata": {
        "id": "view-in-github",
        "colab_type": "text"
      },
      "source": [
        "<a href=\"https://colab.research.google.com/github/gauravthombare/gauravthombare/blob/main/tokenize_tutorial.ipynb\" target=\"_parent\"><img src=\"https://colab.research.google.com/assets/colab-badge.svg\" alt=\"Open In Colab\"/></a>"
      ]
    },
    {
      "cell_type": "markdown",
      "source": [
        "# Standard way"
      ],
      "metadata": {
        "id": "4vFx2KHgldSE"
      }
    },
    {
      "cell_type": "code",
      "execution_count": null,
      "metadata": {
        "colab": {
          "base_uri": "https://localhost:8080/"
        },
        "id": "Kr3uRk3LlUDy",
        "outputId": "28345f87-b3b9-440b-a470-0a5f19f815d3"
      },
      "outputs": [
        {
          "output_type": "stream",
          "name": "stdout",
          "text": [
            "['There', 'are', 'multiple', 'ways', 'we', 'can', 'perform', 'tokenization', 'on', 'given', 'text', 'data.', 'We', 'can', 'choose', 'any', 'method', 'based', 'on', 'langauge,', 'library', 'and', 'purpose', 'of', 'modeling.']\n"
          ]
        }
      ],
      "source": [
        "text = \"\"\"There are multiple ways we can perform tokenization on given text data. We can choose any method based on langauge, library and purpose of modeling.\"\"\"\n",
        "\n",
        "tokens = text.split()\n",
        "\n",
        "print(tokens)"
      ]
    },
    {
      "cell_type": "markdown",
      "source": [
        "Python split method do not consider punctuation as separate token.\n",
        "[reference](https://https://www.kaggle.com/code/satishgunjal/tokenization-in-nlp)"
      ],
      "metadata": {
        "id": "HQTiqu75lzbC"
      }
    },
    {
      "cell_type": "code",
      "source": [],
      "metadata": {
        "id": "4PcWeucbly1i"
      },
      "execution_count": null,
      "outputs": []
    }
  ]
}